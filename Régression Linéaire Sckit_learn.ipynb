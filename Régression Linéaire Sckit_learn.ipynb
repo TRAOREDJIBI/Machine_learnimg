{
 "cells": [
  {
   "cell_type": "markdown",
   "metadata": {},
   "source": [
    "# Régression Linéaire Simple Numpy\n"
   ]
  },
  {
   "cell_type": "code",
   "execution_count": 1,
   "metadata": {},
   "outputs": [],
   "source": [
    "import numpy as np\n",
    "from sklearn.datasets import make_regression\n",
    "import matplotlib.pyplot as plt\n",
    "from sklearn.metrics import mean_absolute_error, mean_squared_error,r2_score"
   ]
  },
  {
   "cell_type": "markdown",
   "metadata": {},
   "source": [
    "# 1. Dataset\n",
    "Génération de données aléatoires avec une tendance linéaire avec make_regression: on a un dataset $(x, y)$ qui contient 100 exemples, et une seule variable $x$. Note: chaque fois que la cellule est executée, des données différentes sont générer. Utiliser np.random.seed(0) pour reproduire le meme Dataset a chaque fois."
   ]
  },
  {
   "cell_type": "code",
   "execution_count": 2,
   "metadata": {},
   "outputs": [],
   "source": [
    "np.random.seed(0) # pour toujours reproduire le meme dataset\n",
    "x, y = make_regression(n_samples=100, n_features=1, noise=10)\n"
   ]
  },
  {
   "cell_type": "code",
   "execution_count": 3,
   "metadata": {},
   "outputs": [
    {
     "name": "stdout",
     "output_type": "stream",
     "text": [
      "[[-0.35955316]\n",
      " [ 0.97663904]\n",
      " [ 0.40234164]\n",
      " [-0.81314628]\n",
      " [-0.88778575]\n",
      " [ 0.44386323]\n",
      " [-0.97727788]\n",
      " [ 0.42833187]\n",
      " [ 0.20827498]\n",
      " [-0.31155253]\n",
      " [-0.51080514]\n",
      " [ 0.12691209]\n",
      " [-1.53624369]\n",
      " [-0.40178094]\n",
      " [ 0.6536186 ]\n",
      " [ 1.17877957]\n",
      " [-0.17992484]\n",
      " [ 1.78587049]\n",
      " [ 1.45427351]\n",
      " [-0.68481009]\n",
      " [ 0.97873798]\n",
      " [ 1.89588918]\n",
      " [-0.4380743 ]\n",
      " [ 0.3130677 ]\n",
      " [ 0.76103773]\n",
      " [ 0.77749036]\n",
      " [ 1.9507754 ]\n",
      " [ 0.33367433]\n",
      " [-0.34791215]\n",
      " [ 1.53277921]\n",
      " [-0.89546656]\n",
      " [-0.57884966]\n",
      " [-1.04855297]\n",
      " [ 0.37816252]\n",
      " [ 0.01050002]\n",
      " [ 0.46278226]\n",
      " [ 0.14404357]\n",
      " [-0.40317695]\n",
      " [ 0.0519454 ]\n",
      " [-1.25279536]\n",
      " [ 1.05445173]\n",
      " [ 0.40015721]\n",
      " [-1.70627019]\n",
      " [ 2.2408932 ]\n",
      " [ 0.17742614]\n",
      " [-0.20515826]\n",
      " [ 1.23029068]\n",
      " [-0.85409574]\n",
      " [ 1.76405235]\n",
      " [ 0.4105985 ]\n",
      " [-0.90729836]\n",
      " [-1.42001794]\n",
      " [ 0.46566244]\n",
      " [ 0.90082649]\n",
      " [ 1.13940068]\n",
      " [ 0.40198936]\n",
      " [ 0.3869025 ]\n",
      " [-1.7262826 ]\n",
      " [ 1.46935877]\n",
      " [-0.18718385]\n",
      " [-0.87079715]\n",
      " [ 0.3024719 ]\n",
      " [ 1.20237985]\n",
      " [-1.98079647]\n",
      " [-2.55298982]\n",
      " [-1.45436567]\n",
      " [-0.02818223]\n",
      " [ 0.15494743]\n",
      " [ 1.22244507]\n",
      " [ 1.86755799]\n",
      " [ 2.26975462]\n",
      " [-0.74216502]\n",
      " [ 0.06651722]\n",
      " [ 1.49407907]\n",
      " [-0.67246045]\n",
      " [-1.63019835]\n",
      " [ 0.12898291]\n",
      " [ 0.95008842]\n",
      " [ 1.48825219]\n",
      " [ 0.05616534]\n",
      " [ 0.8644362 ]\n",
      " [ 0.70657317]\n",
      " [-0.15135721]\n",
      " [-1.07075262]\n",
      " [-0.10321885]\n",
      " [-0.30230275]\n",
      " [-0.38732682]\n",
      " [ 0.72909056]\n",
      " [ 0.12167502]\n",
      " [-0.50965218]\n",
      " [-1.23482582]\n",
      " [-0.21274028]\n",
      " [-0.63432209]\n",
      " [ 0.15634897]\n",
      " [ 0.04575852]\n",
      " [-1.16514984]\n",
      " [-0.36274117]\n",
      " [ 0.3563664 ]\n",
      " [-1.61389785]\n",
      " [-1.18063218]]\n"
     ]
    }
   ],
   "source": [
    "print(x)"
   ]
  },
  {
   "cell_type": "code",
   "execution_count": 4,
   "metadata": {},
   "outputs": [
    {
     "data": {
      "text/plain": [
       "array([-1.99558856e+01,  2.13397727e+01,  1.15568946e+01, -1.63420692e+01,\n",
       "       -3.57006385e+01,  2.79953955e+01, -5.63235304e+01,  1.76104141e+01,\n",
       "        2.14510620e+01, -2.23528647e+01, -2.74674636e+01,  9.30231368e+00,\n",
       "       -7.64902562e+01, -2.83346523e+01,  3.06916745e+01,  6.04429895e+01,\n",
       "       -5.12662959e+00,  7.38599937e+01,  8.02758700e+01, -2.38147640e+01,\n",
       "        5.17924631e+01,  7.74719877e+01,  2.65538141e-01,  1.41668399e+01,\n",
       "        4.51707474e+01,  5.57976548e+01,  8.68235998e+01,  1.25549501e+01,\n",
       "        2.65610251e+00,  6.85718935e+01, -4.67284355e+01, -2.19181505e+01,\n",
       "       -5.10544891e+01,  3.04769664e+01, -2.17385589e+01,  3.07746441e+01,\n",
       "        2.13476276e+01, -1.30570016e+01, -1.54726047e+01, -4.59581256e+01,\n",
       "        3.43710384e+01,  1.74943144e+01, -7.03446971e+01,  8.22114997e+01,\n",
       "        1.40323901e+01, -2.86035248e+01,  6.55860358e+01, -3.50527403e+01,\n",
       "        7.23595134e+01, -2.71575115e-02, -2.50617691e+01, -7.19900873e+01,\n",
       "        7.31494988e-01,  2.33229469e+01,  4.44522164e+01,  1.94548702e+01,\n",
       "        1.88182737e-01, -9.61107344e+01,  6.63609945e+01, -5.06000547e+00,\n",
       "       -3.58256813e+01,  6.50867191e+00,  4.27812673e+01, -8.81657065e+01,\n",
       "       -1.14067914e+02, -6.11450392e+01, -1.67547548e+01, -1.28396319e+01,\n",
       "        4.49733589e+01,  8.75345859e+01,  9.57472146e+01, -2.71052094e+01,\n",
       "       -1.52934219e+01,  5.36866622e+01, -2.65475822e+01, -7.68702465e+01,\n",
       "        1.63600962e+01,  2.95678272e+01,  4.54599317e+01,  1.09629742e+01,\n",
       "        3.88621637e+01,  2.69874564e+01, -8.50663786e+00, -4.49153458e+01,\n",
       "        1.67073962e+00, -2.57238393e+01, -1.55899433e+01,  3.51469962e+01,\n",
       "        1.81642197e+01, -9.62864522e+00, -4.60167017e+01, -2.90606708e+00,\n",
       "       -3.61676540e+01,  2.98606223e+00, -7.41580670e+00, -4.84421213e+01,\n",
       "       -4.67748283e-01,  1.17844657e+01, -5.27648493e+01, -5.54200307e+01])"
      ]
     },
     "execution_count": 4,
     "metadata": {},
     "output_type": "execute_result"
    }
   ],
   "source": [
    "y"
   ]
  },
  {
   "cell_type": "code",
   "execution_count": 5,
   "metadata": {},
   "outputs": [
    {
     "data": {
      "text/plain": [
       "<matplotlib.collections.PathCollection at 0x1f04b2b1600>"
      ]
     },
     "execution_count": 5,
     "metadata": {},
     "output_type": "execute_result"
    },
    {
     "data": {
      "image/png": "[encoded data removed]",
      "text/plain": [
       "<Figure size 640x480 with 1 Axes>"
      ]
     },
     "metadata": {},
     "output_type": "display_data"
    }
   ],
   "source": [
    "plt.scatter(x, y) # afficher les résultats. X en abscisse et y en ordonnée"
   ]
  },
  {
   "cell_type": "code",
   "execution_count": 6,
   "metadata": {},
   "outputs": [],
   "source": [
    "# Import the necessary libraries\n",
    "import numpy as np\n",
    "import matplotlib.pyplot as plt\n",
    "from sklearn.linear_model import LinearRegression\n",
    "from sklearn.model_selection import train_test_split"
   ]
  },
  {
   "cell_type": "code",
   "execution_count": 7,
   "metadata": {},
   "outputs": [],
   "source": [
    "# Split the data into training and testing sets\n",
    "X_train, X_test, y_train, y_test = train_test_split(x, y, test_size=0.2, random_state=42)"
   ]
  },
  {
   "cell_type": "code",
   "execution_count": 8,
   "metadata": {},
   "outputs": [],
   "source": [
    "# Create a LinearRegression model\n",
    "model = LinearRegression()"
   ]
  },
  {
   "cell_type": "code",
   "execution_count": 9,
   "metadata": {},
   "outputs": [
    {
     "data": {
      "text/html": [
       "<style>#sk-container-id-1 {color: black;background-color: white;}#sk-container-id-1 pre{padding: 0;}#sk-container-id-1 div.sk-toggleable {background-color: white;}#sk-container-id-1 label.sk-toggleable__label {cursor: pointer;display: block;width: 100%;margin-bottom: 0;padding: 0.3em;box-sizing: border-box;text-align: center;}#sk-container-id-1 label.sk-toggleable__label-arrow:before {content: \"▸\";float: left;margin-right: 0.25em;color: #696969;}#sk-container-id-1 label.sk-toggleable__label-arrow:hover:before {color: black;}#sk-container-id-1 div.sk-estimator:hover label.sk-toggleable__label-arrow:before {color: black;}#sk-container-id-1 div.sk-toggleable__content {max-height: 0;max-width: 0;overflow: hidden;text-align: left;background-color: #f0f8ff;}#sk-container-id-1 div.sk-toggleable__content pre {margin: 0.2em;color: black;border-radius: 0.25em;background-color: #f0f8ff;}#sk-container-id-1 input.sk-toggleable__control:checked~div.sk-toggleable__content {max-height: 200px;max-width: 100%;overflow: auto;}#sk-container-id-1 input.sk-toggleable__control:checked~label.sk-toggleable__label-arrow:before {content: \"▾\";}#sk-container-id-1 div.sk-estimator input.sk-toggleable__control:checked~label.sk-toggleable__label {background-color: #d4ebff;}#sk-container-id-1 div.sk-label input.sk-toggleable__control:checked~label.sk-toggleable__label {background-color: #d4ebff;}#sk-container-id-1 input.sk-hidden--visually {border: 0;clip: rect(1px 1px 1px 1px);clip: rect(1px, 1px, 1px, 1px);height: 1px;margin: -1px;overflow: hidden;padding: 0;position: absolute;width: 1px;}#sk-container-id-1 div.sk-estimator {font-family: monospace;background-color: #f0f8ff;border: 1px dotted black;border-radius: 0.25em;box-sizing: border-box;margin-bottom: 0.5em;}#sk-container-id-1 div.sk-estimator:hover {background-color: #d4ebff;}#sk-container-id-1 div.sk-parallel-item::after {content: \"\";width: 100%;border-bottom: 1px solid gray;flex-grow: 1;}#sk-container-id-1 div.sk-label:hover label.sk-toggleable__label {background-color: #d4ebff;}#sk-container-id-1 div.sk-serial::before {content: \"\";position: absolute;border-left: 1px solid gray;box-sizing: border-box;top: 0;bottom: 0;left: 50%;z-index: 0;}#sk-container-id-1 div.sk-serial {display: flex;flex-direction: column;align-items: center;background-color: white;padding-right: 0.2em;padding-left: 0.2em;position: relative;}#sk-container-id-1 div.sk-item {position: relative;z-index: 1;}#sk-container-id-1 div.sk-parallel {display: flex;align-items: stretch;justify-content: center;background-color: white;position: relative;}#sk-container-id-1 div.sk-item::before, #sk-container-id-1 div.sk-parallel-item::before {content: \"\";position: absolute;border-left: 1px solid gray;box-sizing: border-box;top: 0;bottom: 0;left: 50%;z-index: -1;}#sk-container-id-1 div.sk-parallel-item {display: flex;flex-direction: column;z-index: 1;position: relative;background-color: white;}#sk-container-id-1 div.sk-parallel-item:first-child::after {align-self: flex-end;width: 50%;}#sk-container-id-1 div.sk-parallel-item:last-child::after {align-self: flex-start;width: 50%;}#sk-container-id-1 div.sk-parallel-item:only-child::after {width: 0;}#sk-container-id-1 div.sk-dashed-wrapped {border: 1px dashed gray;margin: 0 0.4em 0.5em 0.4em;box-sizing: border-box;padding-bottom: 0.4em;background-color: white;}#sk-container-id-1 div.sk-label label {font-family: monospace;font-weight: bold;display: inline-block;line-height: 1.2em;}#sk-container-id-1 div.sk-label-container {text-align: center;}#sk-container-id-1 div.sk-container {/* jupyter's `normalize.less` sets `[hidden] { display: none; }` but bootstrap.min.css set `[hidden] { display: none !important; }` so we also need the `!important` here to be able to override the default hidden behavior on the sphinx rendered scikit-learn.org. See: https://github.com/scikit-learn/scikit-learn/issues/21755 */display: inline-block !important;position: relative;}#sk-container-id-1 div.sk-text-repr-fallback {display: none;}</style><div id=\"sk-container-id-1\" class=\"sk-top-container\"><div class=\"sk-text-repr-fallback\"><pre>LinearRegression()</pre><b>In a Jupyter environment, please rerun this cell to show the HTML representation or trust the notebook. <br />On GitHub, the HTML representation is unable to render, please try loading this page with nbviewer.org.</b></div><div class=\"sk-container\" hidden><div class=\"sk-item\"><div class=\"sk-estimator sk-toggleable\"><input class=\"sk-toggleable__control sk-hidden--visually\" id=\"sk-estimator-id-1\" type=\"checkbox\" checked><label for=\"sk-estimator-id-1\" class=\"sk-toggleable__label sk-toggleable__label-arrow\">LinearRegression</label><div class=\"sk-toggleable__content\"><pre>LinearRegression()</pre></div></div></div></div></div>"
      ],
      "text/plain": [
       "LinearRegression()"
      ]
     },
     "execution_count": 9,
     "metadata": {},
     "output_type": "execute_result"
    }
   ],
   "source": [
    "# Fit the model to the training data\n",
    "model.fit(X_train, y_train)"
   ]
  },
  {
   "cell_type": "code",
   "execution_count": 10,
   "metadata": {},
   "outputs": [],
   "source": [
    "# Get the model parameters (coefficients)\n",
    "slope = model.coef_[0]\n",
    "intercept = model.intercept_"
   ]
  },
  {
   "cell_type": "code",
   "execution_count": 11,
   "metadata": {},
   "outputs": [],
   "source": [
    "y_pred = model.predict(X_test)"
   ]
  },
  {
   "cell_type": "code",
   "execution_count": 12,
   "metadata": {},
   "outputs": [],
   "source": [
    "# Print the coefficients and metrics\n",
    "mae = mean_absolute_error(y_test, y_pred)\n",
    "# Calculate Mean Squared Error (MSE)\n",
    "mse = np.sqrt(mean_squared_error(y_test, y_pred))\n",
    "r_squared = r2_score(y_test, y_pred)"
   ]
  },
  {
   "cell_type": "code",
   "execution_count": 13,
   "metadata": {},
   "outputs": [
    {
     "name": "stdout",
     "output_type": "stream",
     "text": [
      "Slope (Coefficient): 42.6626453682027\n",
      "Intercept: -1.069362586732859\n",
      "Mean Absolute Error (MAE): 8.983891386638774\n",
      "Mean Squared Error (MSE): 10.716071342977727\n",
      "R-squared (Coefficient of Determination): 0.9437320687923874\n"
     ]
    }
   ],
   "source": [
    "# Print the coefficients and metrics\n",
    "slope = model.coef_[0]\n",
    "intercept = model.intercept_\n",
    "print(f\"Slope (Coefficient): {slope}\")\n",
    "print(f\"Intercept: {intercept}\")\n",
    "print(f\"Mean Absolute Error (MAE): {mae}\")\n",
    "print(f\"Mean Squared Error (MSE): {mse}\")\n",
    "print(f\"R-squared (Coefficient of Determination): {r_squared}\")"
   ]
  },
  {
   "cell_type": "code",
   "execution_count": 14,
   "metadata": {},
   "outputs": [
    {
     "data": {
      "image/png": "[encoded data removed]",
      "text/plain": [
       "<Figure size 640x480 with 1 Axes>"
      ]
     },
     "metadata": {},
     "output_type": "display_data"
    }
   ],
   "source": [
    "# Plot the original data, the regression line, and the test predictions\n",
    "plt.scatter(X_test, y_test, label='Test Data')\n",
    "plt.plot(X_test, y_pred, 'r-', label='Linear Regression')\n",
    "plt.xlabel('X')\n",
    "plt.ylabel('y')\n",
    "plt.legend()\n",
    "plt.show()"
   ]
  },
  {
   "cell_type": "code",
   "execution_count": 15,
   "metadata": {},
   "outputs": [
    {
     "name": "stdout",
     "output_type": "stream",
     "text": [
      "Predicted y for X_new: [148.2498962]\n"
     ]
    }
   ],
   "source": [
    "# New data point(s) for prediction\n",
    "X_new = np.array([[3.5]])  # Replace with the value(s) you want to predict\n",
    "\n",
    "# Make predictions with the trained model\n",
    "y_pred = model.predict(X_new)\n",
    "\n",
    "# Print the prediction(s)\n",
    "print(f\"Predicted y for X_new: {y_pred}\")\n"
   ]
  },
  {
   "cell_type": "code",
   "execution_count": null,
   "metadata": {},
   "outputs": [],
   "source": []
  }
 ],
 "metadata": {
  "kernelspec": {
   "display_name": "Python 3 (ipykernel)",
   "language": "python",
   "name": "python3"
  },
  "language_info": {
   "codemirror_mode": {
    "name": "ipython",
    "version": 3
   },
   "file_extension": ".py",
   "mimetype": "text/x-python",
   "name": "python",
   "nbconvert_exporter": "python",
   "pygments_lexer": "ipython3",
   "version": "3.10.10"
  }
 },
 "nbformat": 4,
 "nbformat_minor": 2
}
